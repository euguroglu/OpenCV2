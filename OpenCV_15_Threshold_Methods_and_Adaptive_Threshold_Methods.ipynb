{
 "cells": [
  {
   "cell_type": "code",
   "execution_count": 1,
   "metadata": {},
   "outputs": [],
   "source": [
    "import cv2\n",
    "import numpy as np\n",
    "\n",
    "#To use threshold image need to in grayscale form\n",
    "image = cv2.imread('images/gradient.jpg',0)\n",
    "cv2.imshow('Original',image)\n",
    "\n",
    "#Values below 127 goes to 0 (black) and everything above goes to 255 (white)\n",
    "ret,thresh1 = cv2.threshold(image,127,255,cv2.THRESH_BINARY)\n",
    "cv2.imshow('THRESH BINARY',thresh1)\n",
    "\n",
    "#Values below 127 goes to 255 and above 127 goest to 0 (inverse threshold)\n",
    "ret,thresh2 = cv2.threshold(image,127,255,cv2.THRESH_BINARY_INV)\n",
    "cv2.imshow('THRESH INV',thresh2)\n",
    "\n",
    "#Values above 127 are truncated(held) at 127 (no more 255)\n",
    "ret,thresh3 = cv2.threshold(image,127,255,cv2.THRESH_TRUNC)\n",
    "cv2.imshow('THRESH TRfUNC',thresh3)\n",
    "\n",
    "#Values above 127 go to 0 above 127 are unchanged\n",
    "ret,thresh4 = cv2.threshold(image,127,255,cv2.THRESH_TOZERO)\n",
    "cv2.imshow('THRESH TOZERO',thresh4)\n",
    "\n",
    "# Resever of above, below 127 is unchanged, above 127 goes to 0\n",
    "ret,thresh5 = cv2.threshold(image, 127, 255, cv2.THRESH_TOZERO_INV)\n",
    "cv2.imshow('5 THRESH TOZERO INV', thresh5)\n",
    "\n",
    "cv2.waitKey(0)\n",
    "cv2.destroyAllWindows()"
   ]
  },
  {
   "cell_type": "code",
   "execution_count": null,
   "metadata": {},
   "outputs": [],
   "source": [
    "## Adaptive Threshold Methods"
   ]
  }
 ],
 "metadata": {
  "kernelspec": {
   "display_name": "Python 3",
   "language": "python",
   "name": "python3"
  },
  "language_info": {
   "codemirror_mode": {
    "name": "ipython",
    "version": 3
   },
   "file_extension": ".py",
   "mimetype": "text/x-python",
   "name": "python",
   "nbconvert_exporter": "python",
   "pygments_lexer": "ipython3",
   "version": "3.7.6"
  }
 },
 "nbformat": 4,
 "nbformat_minor": 4
}
