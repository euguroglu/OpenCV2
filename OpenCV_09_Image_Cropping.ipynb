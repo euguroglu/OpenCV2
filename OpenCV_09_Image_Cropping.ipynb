{
 "cells": [
  {
   "cell_type": "markdown",
   "metadata": {},
   "source": [
    "## Image Cropping"
   ]
  },
  {
   "cell_type": "code",
   "execution_count": 4,
   "metadata": {},
   "outputs": [],
   "source": [
    "import cv2\n",
    "import numpy as np\n",
    "\n",
    "image = cv2.imread('images/input.jpg')\n",
    "height,width = image.shape[:2]\n",
    "\n",
    "#Getting starting pixel coordinate of the croped image(top left rectangle)\n",
    "start_row,start_col = int(height*0.25),int(width*0.25)\n",
    "\n",
    "#Getting ending pixed coordinate of the cropped image(bottom right)\n",
    "end_row,end_col = int(height),int(width)\n",
    "\n",
    "cropped_img = image[start_row:end_row,start_col:end_col]\n",
    "\n",
    "cv2.imshow('Original image',image)\n",
    "cv2.waitKey(0)\n",
    "cv2.imshow('Cropped image',cropped_img)\n",
    "\n",
    "cv2.waitKey(0)\n",
    "cv2.destroyAllWindows()"
   ]
  }
 ],
 "metadata": {
  "kernelspec": {
   "display_name": "Python 3",
   "language": "python",
   "name": "python3"
  },
  "language_info": {
   "codemirror_mode": {
    "name": "ipython",
    "version": 3
   },
   "file_extension": ".py",
   "mimetype": "text/x-python",
   "name": "python",
   "nbconvert_exporter": "python",
   "pygments_lexer": "ipython3",
   "version": "3.7.6"
  }
 },
 "nbformat": 4,
 "nbformat_minor": 4
}
