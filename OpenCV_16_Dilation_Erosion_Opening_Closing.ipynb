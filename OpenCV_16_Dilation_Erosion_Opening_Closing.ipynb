{
 "cells": [
  {
   "cell_type": "markdown",
   "metadata": {},
   "source": [
    "## Dilation,Erosion,Opening,Closing"
   ]
  },
  {
   "cell_type": "code",
   "execution_count": 1,
   "metadata": {},
   "outputs": [],
   "source": [
    "import cv2\n",
    "import numpy as np\n",
    "\n",
    "image = cv2.imread('images/opencv_inv.png',0)\n",
    "\n",
    "cv2.imshow('Original',image)\n",
    "\n",
    "cv2.waitKey(0)\n",
    "\n",
    "#Lets define our kernel size\n",
    "kernel = np.ones((5,5),np.uint8)\n",
    "\n",
    "#Now we erode\n",
    "erosion = cv2.erode(image,kernel,iterations=1)\n",
    "cv2.imshow('Erosion',erosion)\n",
    "\n",
    "cv2.waitKey(0)\n",
    "\n",
    "dilation = cv2.dilate(image,kernel,iterations=1)\n",
    "cv2.imshow('Dilation',dilation)\n",
    "\n",
    "cv2.waitKey(0)\n",
    "\n",
    "#Opening (good for removing noise)\n",
    "opening = cv2.morphologyEx(image,cv2.MORPH_OPEN,kernel)\n",
    "cv2.imshow('Opening',opening)\n",
    "\n",
    "cv2.waitKey(0)\n",
    "\n",
    "#Closing (good for removing noise)\n",
    "closing = cv2.morphologyEx(image,cv2.MORPH_CLOSE,kernel)\n",
    "cv2.imshow('Closing',closing)\n",
    "\n",
    "cv2.waitKey(0)\n",
    "cv2.destroyAllWindows()"
   ]
  },
  {
   "cell_type": "markdown",
   "metadata": {},
   "source": [
    "### There are some other less popular morphology operations, see the official OpenCV site:\n",
    "\n",
    "http://docs.opencv.org/3.0-beta/doc/py_tutorials/py_imgproc/py_morphological_ops/py_morphological_ops.html"
   ]
  },
  {
   "cell_type": "code",
   "execution_count": null,
   "metadata": {},
   "outputs": [],
   "source": []
  }
 ],
 "metadata": {
  "kernelspec": {
   "display_name": "Python 3",
   "language": "python",
   "name": "python3"
  },
  "language_info": {
   "codemirror_mode": {
    "name": "ipython",
    "version": 3
   },
   "file_extension": ".py",
   "mimetype": "text/x-python",
   "name": "python",
   "nbconvert_exporter": "python",
   "pygments_lexer": "ipython3",
   "version": "3.7.6"
  }
 },
 "nbformat": 4,
 "nbformat_minor": 4
}
