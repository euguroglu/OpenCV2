{
 "cells": [
  {
   "cell_type": "code",
   "execution_count": 1,
   "metadata": {},
   "outputs": [],
   "source": [
    "## OpenCV Arithmetic Operations"
   ]
  },
  {
   "cell_type": "markdown",
   "metadata": {},
   "source": [
    "Aritmetic operations are used to add or substract color intensity to adjust brightness of image"
   ]
  },
  {
   "cell_type": "code",
   "execution_count": 4,
   "metadata": {},
   "outputs": [],
   "source": [
    "import cv2\n",
    "import numpy as np\n",
    "\n",
    "image = cv2.imread('images/input.jpg')\n",
    "\n",
    "#Create matrix of ones, then multiply by a scaler value\n",
    "#This gives a matrix with same dimension of our image with all same values\n",
    "M = np.ones(image.shape,dtype='uint8')*75\n",
    "\n",
    "#We can use this M matrix to add our image\n",
    "#This will change brightness of image\n",
    "\n",
    "added = cv2.add(image,M)\n",
    "cv2.imshow('Added',added)\n",
    "\n",
    "cv2.waitKey(0)\n",
    "\n",
    "#We can also subtract to decrease brightness\n",
    "subtracted = cv2.subtract(image,M)\n",
    "cv2.imshow('Subtracted',subtracted)\n",
    "\n",
    "cv2.waitKey(0)\n",
    "cv2.destroyAllWindows()"
   ]
  },
  {
   "cell_type": "code",
   "execution_count": null,
   "metadata": {},
   "outputs": [],
   "source": []
  }
 ],
 "metadata": {
  "kernelspec": {
   "display_name": "Python 3",
   "language": "python",
   "name": "python3"
  },
  "language_info": {
   "codemirror_mode": {
    "name": "ipython",
    "version": 3
   },
   "file_extension": ".py",
   "mimetype": "text/x-python",
   "name": "python",
   "nbconvert_exporter": "python",
   "pygments_lexer": "ipython3",
   "version": "3.7.6"
  }
 },
 "nbformat": 4,
 "nbformat_minor": 4
}
