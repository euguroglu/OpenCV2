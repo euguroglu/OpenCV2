{
 "cells": [
  {
   "cell_type": "markdown",
   "metadata": {},
   "source": [
    "## Blurring using custom kernel with filter2D function"
   ]
  },
  {
   "cell_type": "code",
   "execution_count": 3,
   "metadata": {},
   "outputs": [],
   "source": [
    "import cv2\n",
    "import numpy as np\n",
    "\n",
    "image = cv2.imread('images/elephant.jpg')\n",
    "cv2.imshow('Original Image',image)\n",
    "\n",
    "cv2.waitKey(0)\n",
    "#Creating 3x3 kernel\n",
    "kernel = np.ones((3,3),np.float32)/9 #To normalize kernel values we are dividing by\n",
    "#9 which makes sum of all values equals to 1\n",
    "\n",
    "#Using cv2.filter function to to blur image\n",
    "blurred = cv2.filter2D(image,-1,kernel)\n",
    "# -1 means here output depth we want it to be equal input depth\n",
    "cv2.imshow('Kernel Blurring',blurred)\n",
    "\n",
    "cv2.waitKey(0)\n",
    "\n",
    "kernel2 = np.ones((7,7),np.float32)/49\n",
    "\n",
    "blurred2 = cv2.filter2D(image,-1,kernel2)\n",
    "cv2.imshow('Kernel2 Blurring',blurred2)\n",
    "\n",
    "cv2.waitKey(0)\n",
    "\n",
    "cv2.destroyAllWindows()"
   ]
  },
  {
   "cell_type": "code",
   "execution_count": 4,
   "metadata": {},
   "outputs": [],
   "source": [
    "## Blur function"
   ]
  },
  {
   "cell_type": "code",
   "execution_count": 8,
   "metadata": {},
   "outputs": [],
   "source": [
    "import cv2\n",
    "import numpy as np\n",
    "\n",
    "image = cv2.imread('images/elephant.jpg')\n",
    "\n",
    "cv2.imshow('Original image',image)\n",
    "\n",
    "cv2.waitKey(0)\n",
    "\n",
    "#Averaging done by convolving the image with a normalized box filter\n",
    "#This takes the pixels under the box and replaces the central element\n",
    "#Box size need to be odd and positive\n",
    "blur = cv2.blur(image,(3,3))\n",
    "cv2.imshow('Averaging Blur Function',blur)\n",
    "\n",
    "cv2.waitKey(0)\n",
    "cv2.destroyAllWindows()"
   ]
  },
  {
   "cell_type": "code",
   "execution_count": null,
   "metadata": {},
   "outputs": [],
   "source": [
    "## Gaussian Blur"
   ]
  },
  {
   "cell_type": "code",
   "execution_count": 9,
   "metadata": {},
   "outputs": [],
   "source": [
    "import cv2\n",
    "import numpy as np\n",
    "\n",
    "image = cv2.imread('images/elephant.jpg')\n",
    "\n",
    "cv2.imshow('Original image',image)\n",
    "\n",
    "cv2.waitKey(0)\n",
    "\n",
    "#Gaussian Kernel\n",
    "gaussian = cv2.GaussianBlur(image,(7,7),0)\n",
    "cv2.imshow('Gussian Blur Function',gaussian)\n",
    "\n",
    "cv2.waitKey(0)\n",
    "cv2.destroyAllWindows()"
   ]
  },
  {
   "cell_type": "code",
   "execution_count": null,
   "metadata": {},
   "outputs": [],
   "source": [
    "## Median Blur"
   ]
  },
  {
   "cell_type": "code",
   "execution_count": 10,
   "metadata": {},
   "outputs": [],
   "source": [
    "import cv2\n",
    "import numpy as np\n",
    "\n",
    "image = cv2.imread('images/elephant.jpg')\n",
    "\n",
    "cv2.imshow('Original image',image)\n",
    "\n",
    "cv2.waitKey(0)\n",
    "\n",
    "#Takes median of all the pixels under kernel area and central element \n",
    "#is replaced with this median value\n",
    "median = cv2.medianBlur(image,5)\n",
    "cv2.imshow('Median Blurring',median)\n",
    "\n",
    "cv2.waitKey(0)\n",
    "cv2.destroyAllWindows()"
   ]
  },
  {
   "cell_type": "code",
   "execution_count": null,
   "metadata": {},
   "outputs": [],
   "source": [
    "## Bilateral Blurring"
   ]
  },
  {
   "cell_type": "code",
   "execution_count": 11,
   "metadata": {},
   "outputs": [],
   "source": [
    "import cv2\n",
    "import numpy as np\n",
    "\n",
    "image = cv2.imread('images/elephant.jpg')\n",
    "\n",
    "cv2.imshow('Original image',image)\n",
    "\n",
    "cv2.waitKey(0)\n",
    "\n",
    "#Bilateral is very effective in noise removel while keeping edges sharp\n",
    "bilateral = cv2.bilateralFilter(image,9,75,75)\n",
    "cv2.imshow('Bilateral Blurring',bilateral)\n",
    "\n",
    "cv2.waitKey(0)\n",
    "cv2.destroyAllWindows()"
   ]
  },
  {
   "cell_type": "code",
   "execution_count": null,
   "metadata": {},
   "outputs": [],
   "source": []
  }
 ],
 "metadata": {
  "kernelspec": {
   "display_name": "Python 3",
   "language": "python",
   "name": "python3"
  },
  "language_info": {
   "codemirror_mode": {
    "name": "ipython",
    "version": 3
   },
   "file_extension": ".py",
   "mimetype": "text/x-python",
   "name": "python",
   "nbconvert_exporter": "python",
   "pygments_lexer": "ipython3",
   "version": "3.7.6"
  }
 },
 "nbformat": 4,
 "nbformat_minor": 4
}
